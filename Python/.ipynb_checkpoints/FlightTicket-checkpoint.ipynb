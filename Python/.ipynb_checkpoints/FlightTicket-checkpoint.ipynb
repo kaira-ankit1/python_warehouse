{
 "cells": [
  {
   "cell_type": "markdown",
   "metadata": {},
   "source": [
    "Create a reservation system which books airline seats or hotel rooms. It charges various rates for particular sections of the plane or hotel. Example, first class is going to cost more than coach. Hotel rooms have penthouse suites which cost more. Keep track of when rooms will be available and can be scheduled"
   ]
  },
  {
   "cell_type": "code",
   "execution_count": 3,
   "metadata": {},
   "outputs": [],
   "source": [
    "import datetime\n",
    "\n",
    "ticket_class_list = (\"First\",\"Business\",\"Economy\")\n",
    "class_seats = {\"First\":10,\"Business\":20,\"Economy\":70}\n",
    "class_seats_price = {\"First\":15000,\"Business\":10000,\"Economy\":5000}\n",
    "current_date = datetime.date.today()"
   ]
  },
  {
   "cell_type": "code",
   "execution_count": 53,
   "metadata": {},
   "outputs": [],
   "source": [
    "seat_generation = []\n",
    "for i in range(1,31):\n",
    "    inner_list = []\n",
    "    for j in ('A','B','C','D','E','F'):\n",
    "        inner_list.append(str(i)+j)\n",
    "    seat_generation.append(inner_list)\n",
    "\n",
    "window_seat = []\n",
    "aisle_seat = []\n",
    "middle_seat = []\n",
    "for i in seat_generation:\n",
    "    for j in i:\n",
    "        if j[-1:] == 'A' or j[-1:] == 'F':\n",
    "            window_seat.append(j)\n",
    "        elif j[-1:] == 'C' or j[-1:] == 'D':\n",
    "            aisle_seat.append(j)\n",
    "        else:\n",
    "            middle_seat.append(j)\n",
    "            \n",
    "flag = True\n",
    "seat_flag = {}\n",
    "for i in range(1,31):\n",
    "    for j in ('A','B','C','D','E','F'):\n",
    "        seat_flag[(str(i)+j)] = True"
   ]
  },
  {
   "cell_type": "code",
   "execution_count": 125,
   "metadata": {},
   "outputs": [],
   "source": [
    "# function to check if particular seat is available or not\n",
    "def check_seat_availability(seat_number):\n",
    "    if seat_number not in seat_flag.keys():\n",
    "        print(f'{seat_number} not in the plane')\n",
    "    elif seat_flag[seat_number] == True:\n",
    "        print(f'{seat_number} is available')\n",
    "    else:\n",
    "        print (f'{seat_number} is taken')"
   ]
  },
  {
   "cell_type": "code",
   "execution_count": 126,
   "metadata": {},
   "outputs": [
    {
     "name": "stdout",
     "output_type": "stream",
     "text": [
      "41F not in the plane\n"
     ]
    }
   ],
   "source": [
    "check_seat_availability(\"41F\")"
   ]
  },
  {
   "cell_type": "code",
   "execution_count": 2,
   "metadata": {},
   "outputs": [],
   "source": [
    "def seat_type_rate(seat_number):\n",
    "    seat_type_hike = 0\n",
    "    if seat_number[-1] == 'A' or seat_number[-1] == 'F':\n",
    "        seat_type_hike = 500\n",
    "    elif seat_number[-1] == 'C' or seat_number[-1] == 'D':\n",
    "        seat_type_hike = 400\n",
    "    else:\n",
    "        seat_type_hike = 200\n",
    "    return seat_type_hike"
   ]
  },
  {
   "cell_type": "code",
   "execution_count": 3,
   "metadata": {},
   "outputs": [
    {
     "data": {
      "text/plain": [
       "500"
      ]
     },
     "execution_count": 3,
     "metadata": {},
     "output_type": "execute_result"
    }
   ],
   "source": [
    "seat_type_rate('41F')"
   ]
  },
  {
   "cell_type": "code",
   "execution_count": 83,
   "metadata": {},
   "outputs": [],
   "source": [
    "class Ticket_Reservation:\n",
    "    \n",
    "#     def __init__(self, ticket_date, no_of_tickets, ticket_class):\n",
    "#         self.ticket_date = ticket_date\n",
    "#         self.no_of_tickets = no_of_tickets\n",
    "#         self.ticket_class = ticket_class\n",
    "\n",
    "    def __init__(self):\n",
    "        pass\n",
    "        \n",
    "    def display(self):\n",
    "        ticket_date = input(\"Please enter the date of your journey (dd-mm-yyyy)\")\n",
    "        no_of_tickets = int(input(\"Please enter the number of seats you want to book \"))\n",
    "        ticket_class = input(\"Please enter ticket class (First, Business or Economy)\")\n",
    "    \n",
    "        check_seat(ticket_class, no_of_tickets)\n",
    "        \n",
    "        ticket_price = fair_calculation(ticket_class)\n",
    "        ticket_price *= no_of_tickets\n",
    "        return ticket_price              \n"
   ]
  },
  {
   "cell_type": "code",
   "execution_count": 23,
   "metadata": {},
   "outputs": [],
   "source": [
    "def check_seat(ticket_class, no_of_tickets):\n",
    "    if ticket_class in ticket_class:\n",
    "        if no_of_tickets < class_seats[ticket_class]:\n",
    "            class_seats[ticket_class]-=no_of_tickets\n",
    "#             print(class_seats[ticket_class])\n",
    "            return True\n",
    "    else:\n",
    "        print(\"Please enter a valid class: (First, Business or Economy)\")\n",
    "        return False        "
   ]
  },
  {
   "cell_type": "code",
   "execution_count": 24,
   "metadata": {},
   "outputs": [
    {
     "name": "stdout",
     "output_type": "stream",
     "text": [
      "66\n"
     ]
    },
    {
     "data": {
      "text/plain": [
       "True"
      ]
     },
     "execution_count": 24,
     "metadata": {},
     "output_type": "execute_result"
    }
   ],
   "source": [
    "check_seat(\"Economy\", 4)"
   ]
  },
  {
   "cell_type": "code",
   "execution_count": 7,
   "metadata": {},
   "outputs": [],
   "source": [
    "def fair_calculation(ticket_class):\n",
    "    ticket_price = 0\n",
    "    if check_seat(ticket_class, 4):\n",
    "        hike = date_calculation(current_date, \"31-05-2020\")\n",
    "        print(hike)\n",
    "        if ticket_class_list[0] == ticket_class:\n",
    "            ticket_price = (class_seats_price[ticket_class] * hike)/100 + class_seats_price[ticket_class]\n",
    "        elif ticket_class_list[1] == ticket_class:\n",
    "            ticket_price = (class_seats_price[ticket_class] * hike)/100 + class_seats_price[ticket_class]\n",
    "        else:\n",
    "            ticket_price = (class_seats_price[ticket_class] * hike)/100 + class_seats_price[ticket_class]\n",
    "    else:\n",
    "        print(\"No more seats left in the plane, please choose another date\")\n",
    "    return ticket_price\n",
    "    "
   ]
  },
  {
   "cell_type": "code",
   "execution_count": 8,
   "metadata": {},
   "outputs": [
    {
     "name": "stdout",
     "output_type": "stream",
     "text": [
      "2020-05-28\n",
      "3\n",
      "20\n"
     ]
    },
    {
     "data": {
      "text/plain": [
       "6000.0"
      ]
     },
     "execution_count": 8,
     "metadata": {},
     "output_type": "execute_result"
    }
   ],
   "source": [
    "fair_calculation(\"Economy\")"
   ]
  },
  {
   "cell_type": "code",
   "execution_count": 21,
   "metadata": {},
   "outputs": [],
   "source": [
    "def date_calculation(current_date,ticket_date):\n",
    "    hike = 0\n",
    "    current_date = datetime.date.today()\n",
    "    print(current_date)\n",
    "    d,m,y = ticket_date.split('-')\n",
    "    someday = datetime.date(int(y),int(m),int(d))\n",
    "    diff = someday - current_date\n",
    "    print(diff)\n",
    "    l = ''\n",
    "    l+= str(diff)\n",
    "    diff = int(l[0:2])\n",
    "    print(diff)\n",
    "    if diff > 30:\n",
    "        hike = 0\n",
    "    elif diff <= 30 and diff >=15:\n",
    "        hike = 10\n",
    "    else:\n",
    "        hike = 20\n",
    "    \n",
    "    return hike"
   ]
  },
  {
   "cell_type": "code",
   "execution_count": 22,
   "metadata": {},
   "outputs": [
    {
     "name": "stdout",
     "output_type": "stream",
     "text": [
      "2020-05-28\n",
      "12 days, 0:00:00\n",
      "12\n"
     ]
    },
    {
     "data": {
      "text/plain": [
       "20"
      ]
     },
     "execution_count": 22,
     "metadata": {},
     "output_type": "execute_result"
    }
   ],
   "source": [
    "date_calculation(current_date, \"09-06-2020\")"
   ]
  },
  {
   "cell_type": "code",
   "execution_count": 159,
   "metadata": {},
   "outputs": [
    {
     "name": "stdout",
     "output_type": "stream",
     "text": [
      "Please enter the date of your journey (dd-mm-yyyy)09-06-2020\n",
      "Please enter the number of seats you want to book 4\n",
      "Please enter ticket class (First, Business or Economy)Economy\n",
      "4\n",
      "20\n"
     ]
    },
    {
     "data": {
      "text/plain": [
       "24000.0"
      ]
     },
     "execution_count": 159,
     "metadata": {},
     "output_type": "execute_result"
    }
   ],
   "source": [
    "ticket = Ticket_Reservation()\n",
    "ticket.display()"
   ]
  },
  {
   "cell_type": "markdown",
   "metadata": {},
   "source": []
  },
  {
   "cell_type": "code",
   "execution_count": 141,
   "metadata": {},
   "outputs": [],
   "source": [
    "#for reference"
   ]
  },
  {
   "cell_type": "code",
   "execution_count": 42,
   "metadata": {},
   "outputs": [
    {
     "data": {
      "text/plain": [
       "28"
      ]
     },
     "execution_count": 42,
     "metadata": {},
     "output_type": "execute_result"
    }
   ],
   "source": [
    "def fun(ticket_date):\n",
    "    today = datetime.date.today()\n",
    "    ticket_date = \"24-06-2020\"\n",
    "    d,m,y = ticket_date.split('-')\n",
    "    someday = datetime.date(int(y),int(m),int(d))\n",
    "    diff = someday - today\n",
    "    return diff.days\n",
    "    \n",
    "fun(\"24-06-2020\")\n",
    "    "
   ]
  },
  {
   "cell_type": "code",
   "execution_count": null,
   "metadata": {},
   "outputs": [],
   "source": []
  },
  {
   "cell_type": "code",
   "execution_count": null,
   "metadata": {},
   "outputs": [],
   "source": []
  },
  {
   "cell_type": "code",
   "execution_count": null,
   "metadata": {},
   "outputs": [],
   "source": []
  }
 ],
 "metadata": {
  "kernelspec": {
   "display_name": "Python 3",
   "language": "python",
   "name": "python3"
  },
  "language_info": {
   "codemirror_mode": {
    "name": "ipython",
    "version": 3
   },
   "file_extension": ".py",
   "mimetype": "text/x-python",
   "name": "python",
   "nbconvert_exporter": "python",
   "pygments_lexer": "ipython3",
   "version": "3.7.0"
  }
 },
 "nbformat": 4,
 "nbformat_minor": 2
}
